{
 "cells": [
  {
   "cell_type": "code",
   "execution_count": 2,
   "id": "deedc4e8",
   "metadata": {},
   "outputs": [
    {
     "name": "stdout",
     "output_type": "stream",
     "text": [
      "15 est plus grand que 10\n",
      "15 Fin\n"
     ]
    }
   ],
   "source": [
    "x = 15\n",
    "if x > 10:\n",
    "    print(x, \"est plus grand que 10\")\n",
    "print(\"Fin\")"
   ]
  },
  {
   "cell_type": "code",
   "execution_count": 4,
   "id": "876d3821",
   "metadata": {},
   "outputs": [
    {
     "name": "stdout",
     "output_type": "stream",
     "text": [
      "Fin\n"
     ]
    }
   ],
   "source": [
    "x = 3\n",
    "if x > 10:\n",
    "    print (x, \"est plus grand que 10\")\n",
    "print (\"Fin\")"
   ]
  },
  {
   "cell_type": "code",
   "execution_count": 5,
   "id": "a65cf5ba",
   "metadata": {},
   "outputs": [
    {
     "name": "stdout",
     "output_type": "stream",
     "text": [
      "5 est plus grand que 0\n",
      "il est strictement positif\n",
      "Fin\n"
     ]
    }
   ],
   "source": [
    "x = 5\n",
    "if x > 0:\n",
    "    print(x, \"est plus grand que 0\")\n",
    "    print(\"il est strictement positif\")\n",
    "print(\"Fin\")"
   ]
  },
  {
   "cell_type": "code",
   "execution_count": 8,
   "id": "04257fdf",
   "metadata": {},
   "outputs": [
    {
     "name": "stdout",
     "output_type": "stream",
     "text": [
      "Fin\n"
     ]
    }
   ],
   "source": [
    "x = -2\n",
    "if x > 0:\n",
    "    print(x, \"est plus grand que 0\")\n",
    "    print(\"il est strictement positif\")\n",
    "print(\"Fin\")"
   ]
  },
  {
   "cell_type": "code",
   "execution_count": 9,
   "id": "b973a139",
   "metadata": {},
   "outputs": [
    {
     "name": "stdout",
     "output_type": "stream",
     "text": [
      "5 est positif\n",
      "Fin\n"
     ]
    }
   ],
   "source": [
    "x = 5\n",
    "if x > 0:\n",
    "    print(x, \"est positif\")\n",
    "else:\n",
    "    print(x, \"est négatif ou nul\")\n",
    "print(\"Fin\")\n"
   ]
  },
  {
   "cell_type": "code",
   "execution_count": 10,
   "id": "50cfb2da",
   "metadata": {},
   "outputs": [
    {
     "name": "stdout",
     "output_type": "stream",
     "text": [
      "-2 est négatif ou nul\n",
      "Fin\n"
     ]
    }
   ],
   "source": [
    "x = -2\n",
    "if x > 0:\n",
    "    print(x, \"est positif\")\n",
    "else:\n",
    "    print(x, \"est négatif ou nul\")\n",
    "print(\"Fin\")"
   ]
  },
  {
   "cell_type": "code",
   "execution_count": 14,
   "id": "150f51fe",
   "metadata": {},
   "outputs": [
    {
     "name": "stdout",
     "output_type": "stream",
     "text": [
      "i a pour valeur 0\n",
      "i a pour valeur 1\n",
      "i a pour valeur 2\n",
      "i a pour valeur 3\n"
     ]
    }
   ],
   "source": [
    "for i in [0, 1, 2, 3]:\n",
    "    print(\"i a pour valeur\", i)"
   ]
  },
  {
   "cell_type": "code",
   "execution_count": 15,
   "id": "6671630c",
   "metadata": {},
   "outputs": [
    {
     "name": "stdout",
     "output_type": "stream",
     "text": [
      "i a pour valeur 0\n",
      "i a pour valeur 1\n",
      "i a pour valeur 2\n",
      "i a pour valeur 3\n"
     ]
    }
   ],
   "source": [
    "for i in range(4):\n",
    "    print(\"i a pour valeur\", i)"
   ]
  },
  {
   "cell_type": "code",
   "execution_count": 16,
   "id": "0a96b60c",
   "metadata": {},
   "outputs": [
    {
     "name": "stdout",
     "output_type": "stream",
     "text": [
      "i vaut 0 et c[i] vaut Marc\n",
      "i vaut 1 et c[i] vaut est\n",
      "i vaut 2 et c[i] vaut dans\n",
      "i vaut 3 et c[i] vaut le\n",
      "i vaut 4 et c[i] vaut jardin\n"
     ]
    }
   ],
   "source": [
    "c = [\"Marc\", \"est\", \"dans\", \"le\", \"jardin\"]\n",
    "for i in range(len(c)):\n",
    "    print(\"i vaut\", i, \"et c[i] vaut\", c[i])"
   ]
  },
  {
   "cell_type": "code",
   "execution_count": 17,
   "id": "1ab14fa7",
   "metadata": {},
   "outputs": [
    {
     "data": {
      "text/plain": [
       "5"
      ]
     },
     "execution_count": 17,
     "metadata": {},
     "output_type": "execute_result"
    }
   ],
   "source": [
    "c = [\"Marc\", \"est\", \"dans\", \"le\", \"jardin\"]\n",
    "\n",
    "len(c)"
   ]
  },
  {
   "cell_type": "code",
   "execution_count": 18,
   "id": "8e469c48",
   "metadata": {},
   "outputs": [
    {
     "name": "stdout",
     "output_type": "stream",
     "text": [
      "i vaut Marc\n",
      "i vaut est\n",
      "i vaut dans\n",
      "i vaut le\n",
      "i vaut jardin\n"
     ]
    }
   ],
   "source": [
    "c = [\"Marc\", \"est\", \"dans\", \"le\", \"jardin\"]\n",
    "for i in c:\n",
    "    print(\"i vaut\", i)"
   ]
  }
 ],
 "metadata": {
  "kernelspec": {
   "display_name": "Python 3",
   "language": "python",
   "name": "python3"
  },
  "language_info": {
   "codemirror_mode": {
    "name": "ipython",
    "version": 3
   },
   "file_extension": ".py",
   "mimetype": "text/x-python",
   "name": "python",
   "nbconvert_exporter": "python",
   "pygments_lexer": "ipython3",
   "version": "3.8.8"
  }
 },
 "nbformat": 4,
 "nbformat_minor": 5
}
